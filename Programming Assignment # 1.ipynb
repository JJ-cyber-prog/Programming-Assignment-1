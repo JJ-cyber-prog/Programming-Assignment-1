{
 "cells": [
  {
   "cell_type": "markdown",
   "id": "4e8bfe2b-b95e-41a5-9720-a624991fceec",
   "metadata": {},
   "source": []
  },
  {
   "cell_type": "code",
   "execution_count": 7,
   "id": "92021249-224f-4dd8-94b3-e79577c231dd",
   "metadata": {},
   "outputs": [
    {
     "name": "stdout",
     "output_type": "stream",
     "text": [
      "cceeilnorst\n",
      "eeeggiinnnr\n",
      "ccceeiilmnoorrst\n"
     ]
    }
   ],
   "source": [
    "def alphabet_soup(s):\n",
    "    sorted_chars = sorted(s)\n",
    "    sorted_string = ''.join(sorted_chars)\n",
    "    return sorted_string\n",
    "\n",
    "print(alphabet_soup(\"electronics\"))  \n",
    "print(alphabet_soup(\"engineering\"))\n",
    "print(alphabet_soup(\"microelectronics\"))"
   ]
  },
  {
   "cell_type": "code",
   "execution_count": 11,
   "id": "5738c6ce-080a-49bd-96c4-3d0e0c8f2b27",
   "metadata": {},
   "outputs": [
    {
     "name": "stdout",
     "output_type": "stream",
     "text": [
      "Make me :)\n",
      "Make me :D\n",
      "I am :D\n",
      "I am :D\n"
     ]
    }
   ],
   "source": [
    "def emotify(phrase: str):\n",
    "    words = phrase.split()\n",
    "    \n",
    "    if words[-1].lower() == \"smile\":\n",
    "        words[-1] = \":)\"\n",
    "    elif words[-1].lower() == \"grin\":\n",
    "        words[-1] = \":D\"\n",
    "    elif words[-1].lower() == \"sad\":\n",
    "        words[-1] = \":D\"\n",
    "    elif words[-1].lower() == \"mad\":\n",
    "        words[-1] = \":D\"\n",
    "        \n",
    "    new_phrase = ' '.join(words)\n",
    "    \n",
    "    return new_phrase\n",
    "\n",
    "print(emotify(\"Make me smile\"))\n",
    "print(emotify(\"Make me grin\"))\n",
    "print(emotify(\"I am sad\"))\n",
    "print(emotify(\"I am sad\"))"
   ]
  },
  {
   "cell_type": "code",
   "execution_count": 9,
   "id": "902a571e-7da1-46d8-a5b7-646d114b99f5",
   "metadata": {},
   "outputs": [
    {
     "name": "stdout",
     "output_type": "stream",
     "text": [
      "First: 8\n",
      "Middle: [1, 2, 3, 5, 6, 7]\n",
      "Last: 4\n"
     ]
    }
   ],
   "source": [
    "def separation(arr):\n",
    "    if len(arr) < 2:\n",
    "        print(\"Array must have two elements\")\n",
    "        \n",
    "    first = arr[0]\n",
    "    middle = arr[1:-1]\n",
    "    last = arr[-1]\n",
    "    \n",
    "    print(f\"First: {first}\")\n",
    "    print(f\"Middle: {middle}\")\n",
    "    print(f\"Last: {last}\")\n",
    "    \n",
    "list = [8, 1, 2, 3, 5, 6, 7, 4]\n",
    "separation(list)"
   ]
  }
 ],
 "metadata": {
  "kernelspec": {
   "display_name": "Python 3 (ipykernel)",
   "language": "python",
   "name": "python3"
  },
  "language_info": {
   "codemirror_mode": {
    "name": "ipython",
    "version": 3
   },
   "file_extension": ".py",
   "mimetype": "text/x-python",
   "name": "python",
   "nbconvert_exporter": "python",
   "pygments_lexer": "ipython3",
   "version": "3.12.4"
  }
 },
 "nbformat": 4,
 "nbformat_minor": 5
}

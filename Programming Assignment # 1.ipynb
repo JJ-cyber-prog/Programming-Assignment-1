{
 "cells": [
  {
   "cell_type": "code",
   "execution_count": null,
   "id": "d8b340ae-d2e2-43e5-9d69-7abc22380267",
   "metadata": {},
   "outputs": [],
   "source": [
    "def alphabet_soup(s):\n",
    "    sorted_chars = sorted(s)\n",
    "    sorted_string = ''.join(sorted_chars)\n",
    "    return sorted_string\n",
    "\n",
    "print(alphabet_soup(\"electronics\"))  \n",
    "print(alphabet_soup(\"engineering\"))\n",
    "print(alphabet_soup(\"microelectronics\"))"
   ]
  },
  {
   "cell_type": "code",
   "execution_count": 15,
   "id": "7dc37656-c631-4d91-b2ec-6bfa605f0c4d",
   "metadata": {},
   "outputs": [
    {
     "name": "stdout",
     "output_type": "stream",
     "text": [
      "Make me :)\n",
      "Make me :D\n",
      "I am :((\n",
      "I am >:(\n"
     ]
    }
   ],
   "source": [
    "def emotify(phrase: str):\n",
    "    words = phrase.split()\n",
    "    \n",
    "    if words[-1].lower() == \"smile\":\n",
    "        words[-1] = \":)\"\n",
    "    elif words[-1].lower() == \"grin\":\n",
    "        words[-1] = \":D\"\n",
    "    elif words[-1].lower() == \"sad\":\n",
    "        words[-1] = \":((\"\n",
    "    elif words[-1].lower() == \"mad\":\n",
    "        words[-1] = \">:(\"\n",
    "        \n",
    "    new_phrase = ' '.join(words)\n",
    "    \n",
    "    return new_phrase\n",
    "\n",
    "print(emotify(\"Make me smile\"))\n",
    "print(emotify(\"Make me grin\"))\n",
    "print(emotify(\"I am sad\"))\n",
    "print(emotify(\"I am mad\"))"
   ]
  },
  {
   "cell_type": "code",
   "execution_count": 17,
   "id": "684f53df-12a1-46ba-8891-a9e994debec2",
   "metadata": {},
   "outputs": [
    {
     "name": "stdout",
     "output_type": "stream",
     "text": [
      "First: 8\n",
      "Middle: [1, 2, 3, 5, 6, 7]\n",
      "Last: 4\n"
     ]
    }
   ],
   "source": [
    "def separation(arr):\n",
    "    if len(arr) < 2:\n",
    "        print(\"Array must have two elements\")\n",
    "        \n",
    "    first = arr[0]\n",
    "    middle = arr[1:-1]\n",
    "    last = arr[-1]\n",
    "    \n",
    "    print(f\"First: {first}\")\n",
    "    print(f\"Middle: {middle}\")\n",
    "    print(f\"Last: {last}\")\n",
    "    \n",
    "list = [8, 1, 2, 3, 5, 6, 7, 4]\n",
    "separation(list)"
   ]
  }
 ],
 "metadata": {
  "kernelspec": {
   "display_name": "Python 3 (ipykernel)",
   "language": "python",
   "name": "python3"
  },
  "language_info": {
   "codemirror_mode": {
    "name": "ipython",
    "version": 3
   },
   "file_extension": ".py",
   "mimetype": "text/x-python",
   "name": "python",
   "nbconvert_exporter": "python",
   "pygments_lexer": "ipython3",
   "version": "3.12.4"
  }
 },
 "nbformat": 4,
 "nbformat_minor": 5
}
